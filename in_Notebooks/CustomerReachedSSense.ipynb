{
 "cells": [
  {
   "cell_type": "code",
   "execution_count": 1,
   "metadata": {
    "tags": [
     "parameters"
    ]
   },
   "outputs": [],
   "source": [
    "text = \"Thank you for calling Ssense. Speaking to Adam.\""
   ]
  },
  {
   "cell_type": "code",
   "execution_count": 2,
   "metadata": {},
   "outputs": [],
   "source": [
    "# Function to check whether the customer have reached the ssense\n",
    "measure_sentences = ['Thank you for calling SSense' ,'thank you for reaching out',\n",
    "                        'Thank you for calling Us','Thank you for calling',\n",
    "                        'Thanks for calling','Calling from Ssense','from Ssense',\n",
    "                        'for calling SSense','calling SSense','reaching Ssense',\n",
    "                        'reached Ssense','reach Ssense','This is Ssense','Thank you for contacting',\n",
    "                        'You for calling','Thanks for contacting','for calling','Welcome to Ssense',\n",
    "                        'callback from Ssense','callback from']\n",
    "text = text.lower()\n",
    "text_firsthalf = text[0:len(text)//2]\n",
    "DoesCustomerReachedSSense = []\n",
    "for sentence in measure_sentences:\n",
    "    if sentence.lower() in text_firsthalf:\n",
    "        DoesCustomerReachedSSense.append(True)\n",
    "    else:\n",
    "        DoesCustomerReachedSSense.append(False)\n",
    "        \n",
    "if any(DoesCustomerReachedSSense):\n",
    "    Score_customerReachedSSense = 1\n",
    "else:\n",
    "    Score_customerReachedSSense = 0"
   ]
  },
  {
   "cell_type": "code",
   "execution_count": 3,
   "metadata": {},
   "outputs": [
    {
     "name": "stdout",
     "output_type": "stream",
     "text": [
      "1\n"
     ]
    }
   ],
   "source": [
    "print(Score_customerReachedSSense)"
   ]
  },
  {
   "cell_type": "code",
   "execution_count": null,
   "metadata": {},
   "outputs": [],
   "source": []
  }
 ],
 "metadata": {
  "celltoolbar": "Tags",
  "kernelspec": {
   "display_name": "Python 3",
   "language": "python",
   "name": "python3"
  },
  "language_info": {
   "codemirror_mode": {
    "name": "ipython",
    "version": 3
   },
   "file_extension": ".py",
   "mimetype": "text/x-python",
   "name": "python",
   "nbconvert_exporter": "python",
   "pygments_lexer": "ipython3",
   "version": "3.8.5"
  }
 },
 "nbformat": 4,
 "nbformat_minor": 4
}
