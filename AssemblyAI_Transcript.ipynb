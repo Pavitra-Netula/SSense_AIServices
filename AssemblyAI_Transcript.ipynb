{
 "cells": [
  {
   "cell_type": "code",
   "execution_count": 1,
   "metadata": {},
   "outputs": [],
   "source": [
    "import sys\n",
    "#from configure import auth_key\n",
    "import requests\n",
    "from time import sleep\n",
    "\n",
    "def read_file(media_filename):\n",
    "    with open(media_filename, 'rb') as _file:\n",
    "        while True:\n",
    "            data = _file.read(5242880)\n",
    "            if not data:\n",
    "                break\n",
    "            yield data\n",
    "            \n",
    "def getAssemblyAI_Response(media_filename,word_boost=[]):\n",
    "    try:\n",
    "        #old auth key\n",
    "        #auth_key = '1706479714ae4ebda977511e9e3a5495'\n",
    "        #new auth key\n",
    "        auth_key ='e6bd6d234190449290c9050a4509ee5e'\n",
    "        # store global constants\n",
    "        headers = {\n",
    "           \"authorization\": auth_key,\n",
    "           \"content-type\": \"application/json\"\n",
    "        }\n",
    "        transcript_endpoint = \"https://api.assemblyai.com/v2/transcript\"\n",
    "        upload_endpoint = 'https://api.assemblyai.com/v2/upload'\n",
    "\n",
    "        # upload our audio file\n",
    "        upload_response = requests.post(\n",
    "           upload_endpoint,\n",
    "           headers=headers, data=read_file(media_filename)\n",
    "        )\n",
    "        print('Audio file uploaded')\n",
    "\n",
    "        # send a request to transcribe the audio file\n",
    "        transcript_request = {'audio_url': upload_response.json()['upload_url'],\n",
    "                             #\"word_boost\": ['Talkdesk', 'AI', 'self-serve'],\n",
    "                              'word_boost':word_boost,\n",
    "                             \"boost_param\": \"high\",\n",
    "                             \"disfluencies\": True,\n",
    "                             \"speaker_labels\": True,\n",
    "                             \"iab_categories\": True,\n",
    "                             \"sentiment_analysis\": True,\n",
    "                             \"auto_chapters\": True,\n",
    "                             \"entity_detection\": True,\n",
    "                             \"auto_highlights\": True\n",
    "                            }\n",
    "        transcript_response = requests.post(transcript_endpoint, json=transcript_request, headers=headers)\n",
    "        print('Transcription Requested')\n",
    "        # set up polling\n",
    "        polling_response = requests.get(transcript_endpoint+\"/\"+transcript_response.json()['id'], headers=headers)\n",
    "        filename = transcript_response.json()['id'] + '.txt'\n",
    "        # if our status isn’t complete, sleep and then poll again\n",
    "        while polling_response.json()['status'] != 'completed' or polling_response.json()['status'] == 'error':\n",
    "            sleep(30)\n",
    "            polling_response = requests.get(transcript_endpoint+\"/\"+transcript_response.json()['id'], headers=headers)\n",
    "            print(\"File is\", polling_response.json()['status'])\n",
    "            #if polling_response.json()['status'] == 'error':\n",
    "               # break:\n",
    "        requests.delete(transcript_endpoint+\"/\"+transcript_response.json()['id'], headers=headers)\n",
    "        return polling_response\n",
    "    except Exception as e:\n",
    "        return []"
   ]
  },
  {
   "cell_type": "code",
   "execution_count": 2,
   "metadata": {
    "tags": [
     "parameters"
    ]
   },
   "outputs": [],
   "source": [
    "audio_file_path = r'D:\\Pavitra\\NytroAI\\Hiring_Usecase\\Word_Testing.mp3'"
   ]
  },
  {
   "cell_type": "code",
   "execution_count": 3,
   "metadata": {},
   "outputs": [
    {
     "name": "stdout",
     "output_type": "stream",
     "text": [
      "Audio file uploaded\n",
      "Transcription Requested\n",
      "File is completed\n"
     ]
    }
   ],
   "source": [
    "polling_response = getAssemblyAI_Response(audio_file_path)"
   ]
  },
  {
   "cell_type": "code",
   "execution_count": 15,
   "metadata": {},
   "outputs": [
    {
     "data": {
      "text/plain": [
       "'Account Based Selling Account Executive Account Development Representative Bad Leads Bottom of the funnel Buyer Behavior Are you post or not.'"
      ]
     },
     "execution_count": 15,
     "metadata": {},
     "output_type": "execute_result"
    }
   ],
   "source": [
    "#output_json = polling_response.json()\n",
    "#transcript = output_json['text']\n",
    "#transcript"
   ]
  },
  {
   "cell_type": "code",
   "execution_count": null,
   "metadata": {},
   "outputs": [],
   "source": []
  }
 ],
 "metadata": {
  "celltoolbar": "Tags",
  "kernelspec": {
   "display_name": "Python 3",
   "language": "python",
   "name": "python3"
  },
  "language_info": {
   "codemirror_mode": {
    "name": "ipython",
    "version": 3
   },
   "file_extension": ".py",
   "mimetype": "text/x-python",
   "name": "python",
   "nbconvert_exporter": "python",
   "pygments_lexer": "ipython3",
   "version": "3.8.5"
  }
 },
 "nbformat": 4,
 "nbformat_minor": 4
}
